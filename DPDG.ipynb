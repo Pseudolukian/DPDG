{
  "nbformat": 4,
  "nbformat_minor": 0,
  "metadata": {
    "colab": {
      "provenance": []
    },
    "kernelspec": {
      "name": "python3",
      "display_name": "Python 3"
    },
    "language_info": {
      "name": "python"
    }
  },
  "cells": [
    {
      "cell_type": "markdown",
      "source": [
        "#Pre set up\n",
        "\n",
        "Open ports from 8000 to 9000"
      ],
      "metadata": {
        "id": "pv5TYVJoXULQ"
      }
    },
    {
      "cell_type": "code",
      "source": [
        "!sudo apt-get update\n",
        "!sudo apt-get install ufw\n",
        "!sudo ufw enable\n",
        "!sudo ufw allow 8000:9000/tcp"
      ],
      "metadata": {
        "id": "vXRO4kZuU3_t"
      },
      "execution_count": null,
      "outputs": []
    },
    {
      "cell_type": "markdown",
      "source": [
        "# Install DPDG\n",
        "Clone the project and install the requirements. At the end, if you see an Error message with a restart button, it's okay. Click the button, close the message window, and run the next block of code."
      ],
      "metadata": {
        "id": "55UgUqThG21y"
      }
    },
    {
      "cell_type": "code",
      "execution_count": null,
      "metadata": {
        "id": "51d5DW8I-ES-"
      },
      "outputs": [],
      "source": [
        "!git clone https://github.com/Pseudolukian/DPDG.git\n",
        "%cd DPDG\n",
        "%mkdir gen_out\n",
        "%mkdir static/generated_content\n",
        "!pip3 install pyngrok\n",
        "!pip3 install pyngrok --upgrade\n",
        "!pip3 install -r requirements.txt"
      ]
    },
    {
      "cell_type": "code",
      "source": [
        "!ngrok config add-authtoken 2TWCqocFxQxhwJh54aFDlupr4U4_7VeM5mQrrBJpPKGYnb34q\n",
        "%cd DPDG"
      ],
      "metadata": {
        "colab": {
          "base_uri": "https://localhost:8080/"
        },
        "id": "nvZAfQjRN3C_",
        "outputId": "ce0b2af0-0e2f-4985-e80e-28df7eba7e37"
      },
      "execution_count": 1,
      "outputs": [
        {
          "output_type": "stream",
          "name": "stdout",
          "text": [
            "Authtoken saved to configuration file: /root/.ngrok2/ngrok.yml\n",
            "/content/DPDG\n"
          ]
        }
      ]
    },
    {
      "cell_type": "markdown",
      "source": [
        "# Working with DPDG in manual mode\n",
        "In this code block, you can manipulate data generators and export data in various formats: JSON, XLS, CSV, and LSQL.\n",
        "\n",
        "The exported data will be saved in the \"gen_out\" folder."
      ],
      "metadata": {
        "id": "uuGFX6BxJGfF"
      }
    },
    {
      "cell_type": "code",
      "source": [
        "#=====Importing generator classes========\n",
        "from fakegenerator import FakeGenerator # Main generator class.\n",
        "from file_exporter import File_Exporter # Class for exporting data to various formats.\n",
        "from sql_exporter import SQL_exporter # Class for handling SQL dump logic.\n",
        "from pathlib import Path\n",
        "\n",
        "f_exp = File_Exporter()\n",
        "json_out = Path(\"./gen_out/out.json\")\n",
        "\n",
        "#=========Setting up SQL Exporter=============================#\n",
        "# sql_engine -- parameter used to specify the SQL format. Current options: sqlite and postgresql.\n",
        "# user and password -- parameters used exclusively for PostgreSQL connections.\n",
        "# db_name -- parameter used for both SQLite and PostgreSQL databases.\n",
        "sql_exp = SQL_exporter(sql_engine=\"sqlite\", user=\"exporter\",\n",
        "                       password=\"exporter\", db_name=\"pers_data_test\")\n",
        "\n",
        "\n",
        "#========Main data generation loop==========#\n",
        "for _ in range(1):\n",
        "    f_g = FakeGenerator() # Parameters like age, sex, and country can be customized here.\n",
        "    pers = f_g.generator.personal()\n",
        "    pas = f_g.generator.passport()\n",
        "    cont = f_g.generator.contacts()\n",
        "    exp = f_g.generator.experience()\n",
        "    dip = f_g.generator.diploma()\n",
        "    ad = f_g.generator.address()\n",
        "    bio = f_g.generator.biometric()\n",
        "    dr_l = f_g.generator.driver_license()\n",
        "\n",
        "    f_exp.buffer.add(pers, pas, ad, cont, exp, dip, bio, dr_l) # Add data models to the file buffer.\n",
        "    sql_exp.buffer.add(pers, pas, ad, cont, exp, dip, bio, dr_l) # Add data models to the SQL buffer.\n",
        "\n",
        "#To view the buffered data, you can run: print(f_exp.buffer.buf) or print(sql_exp.buffer.buf)\n",
        "\n",
        "f_exp.json(path_json=json_out)"
      ],
      "metadata": {
        "id": "PX3zVoATGwtE"
      },
      "execution_count": null,
      "outputs": []
    },
    {
      "cell_type": "markdown",
      "source": [
        "# Web application"
      ],
      "metadata": {
        "id": "3Z2Eh4CaMc3u"
      }
    },
    {
      "cell_type": "code",
      "source": [
        "from threading import Thread\n",
        "import threading\n",
        "from pyngrok import ngrok\n",
        "from pyngrok import conf\n",
        "import uvicorn\n",
        "\n",
        "!curl ipecho.net/plain > IP_CONNECT.txt\n",
        "\n",
        "with open(\"IP_CONNECT.txt\", \"r\") as f:\n",
        "    IP_ADDRESS = f.read().strip()\n",
        "\n",
        "#========Import DPDG classes for data generation====#\n",
        "from fakegenerator import FakeGenerator\n",
        "from file_exporter import File_Exporter\n",
        "from sql_exporter import SQL_exporter\n",
        "\n",
        "#========Import libraries for path manipulation and typing====#\n",
        "import os\n",
        "from pathlib import Path\n",
        "from typing import List, Dict, Callable\n",
        "\n",
        "#========Import FAST API and Jinja2 for web application setup=======#\n",
        "from fastapi import FastAPI, Request, Form\n",
        "from fastapi.templating import Jinja2Templates\n",
        "from fastapi.staticfiles import StaticFiles\n",
        "\n",
        "#===============Initialize FAST API and configure the static files directory======#\n",
        "app = FastAPI(debug=True)\n",
        "try:\n",
        "    current_directory = os.path.dirname(os.path.realpath(__file__))\n",
        "except NameError:\n",
        "    current_directory = os.getcwd()\n",
        "static_directory = os.path.join(current_directory, \"static\") # Move to static underfolder.\n",
        "app.mount(\"/static\", StaticFiles(directory=\"static\"), name=\"static\") #Mount full path to static folder.\n",
        "templates = Jinja2Templates(directory=\"templates\") #Set up the directory with html templates.\n",
        "\n",
        "#======Initialize DPDG generator classes======#\n",
        "f_exp = File_Exporter()\n",
        "\n",
        "#========Define paths to save generated data======#\n",
        "path_to_save = Path(\"./static/generated_content/\")\n",
        "csv_path = path_to_save / \"out.csv\"\n",
        "json_path = path_to_save / \"out.json\"\n",
        "xls_path = path_to_save / \"out.xls\"\n",
        "lsql_name = \"out\"\n",
        "\n",
        "\n",
        "#=======Initialize SQL Exporter class and configure it.======#\n",
        "sql_exp = SQL_exporter(db_path=path_to_save, db_name=lsql_name)\n",
        "\n",
        "#========Main zone of web application set up===========================#\n",
        "def reset_previuse_data() -> bool:\n",
        "    for file in path_to_save.iterdir():\n",
        "        if file.is_file():\n",
        "            file.unlink()\n",
        "    return True\n",
        "\n",
        "@app.get(\"/\")\n",
        "async def root(request: Request):\n",
        "    reset_previuse_data()\n",
        "    return templates.TemplateResponse(\"index.html\", {\"request\": request})\n",
        "\n",
        "@app.post(\"/generate/\")\n",
        "async def generate(\n",
        "    data: List[str] = Form(...),       # List of data models to be generated.\n",
        "    sex: List[str] = Form(...),        # Sex parameters for data generation.\n",
        "    country: List[str] = Form(...),    # Country parameters for data generation.\n",
        "    min_age: int = Form(...),          # Minimum age for data generation.\n",
        "    max_age: int = Form(...),          # Maximum age for data generation.\n",
        "    file_types: List[str] = Form(...), # File formats to which data should be exported.\n",
        "    value:int = Form(...)              # Number of data generation iterations (number of rows).\n",
        "    ) -> Dict[str,str]:\n",
        "\n",
        "    models_in_req = []\n",
        "\n",
        "    #=====Main data generation loop====#\n",
        "    for _ in range(value):\n",
        "        f_g = FakeGenerator(sex=sex, age=[min_age, max_age], country=country)\n",
        "        for x in data:\n",
        "            models_in_req.append(getattr(f_g.generator, x, None)())\n",
        "\n",
        "    #=====Adding generated data to buffers===#\n",
        "    for mod in models_in_req:\n",
        "        f_exp.buffer.add(mod)\n",
        "        sql_exp.buffer.add(mod)\n",
        "\n",
        "    #====Export generated data to specified file formats===#\n",
        "    for f_t in file_types:\n",
        "        if f_t == \"JSON\":\n",
        "            f_exp.json(path_json=json_path)\n",
        "        elif f_t == \"CSV\":\n",
        "            f_exp.csv(save_to_string=True, path_csv=csv_path)\n",
        "        elif f_t == \"XLS\":\n",
        "            f_exp.xls(path_xls= xls_path)\n",
        "        elif f_t == \"LiteSQL\":\n",
        "            sql_exp.dump_data(sql_buffer=sql_exp.buffer.buf)\n",
        "\n",
        "    urls = {}\n",
        "\n",
        "    #========Create URLs for exported data files======#\n",
        "    for url in file_types:\n",
        "        if url == \"CSV\":\n",
        "            urls[url] = str(csv_path)\n",
        "        elif url == \"JSON\":\n",
        "            urls[url] = str(json_path)\n",
        "        elif url == \"XLS\":\n",
        "            urls[url] = str(xls_path)\n",
        "        elif url == \"LiteSQL\":\n",
        "            urls[url] = str(path_to_save / lsql_name)\n",
        "    return urls\n",
        "\n",
        "\n",
        "@app.post(\"/reset/\")\n",
        "async def reset() -> bool:\n",
        "\n",
        "    return reset_previuse_data()\n",
        "\n",
        "# This function will run your FastAPI app\n",
        "ngrok.kill()\n",
        "conn_port = 8005\n",
        "def run():\n",
        "    uvicorn.run(app, host=\"0.0.0.0\", port=conn_port, log_level=\"info\")\n",
        "\n",
        "# Create a new thread and start it\n",
        "threading.Thread(target=run).start()\n",
        "\n",
        "public_url = ngrok.connect(conn_port)\n",
        "print('Public URL:', public_url)\n",
        "conf.get_default().loglevel = \"DEBUG\""
      ],
      "metadata": {
        "colab": {
          "base_uri": "https://localhost:8080/"
        },
        "id": "FXgogGboMX5v",
        "outputId": "fa9607cf-47a8-441a-9a4c-bd892e4cb87f"
      },
      "execution_count": 2,
      "outputs": [
        {
          "output_type": "stream",
          "name": "stdout",
          "text": [
            "  % Total    % Received % Xferd  Average Speed   Time    Time     Time  Current\n",
            "                                 Dload  Upload   Total   Spent    Left  Speed\n",
            "\r  0     0    0     0    0     0      0      0 --:--:-- --:--:-- --:--:--     0\r100    12  100    12    0     0    102      0 --:--:-- --:--:-- --:--:--   103\n"
          ]
        },
        {
          "output_type": "stream",
          "name": "stderr",
          "text": [
            "INFO:     Started server process [1941]\n",
            "INFO:     Waiting for application startup.\n",
            "INFO:     Application startup complete.\n",
            "WARNING:pyngrok.process.ngrok:t=2023-08-04T11:59:06+0000 lvl=warn msg=\"ngrok config file found at legacy location, move to XDG location\" xdg_path=/root/.config/ngrok/ngrok.yml legacy_path=/root/.ngrok2/ngrok.yml\n",
            "INFO:     Uvicorn running on http://0.0.0.0:8005 (Press CTRL+C to quit)\n"
          ]
        },
        {
          "output_type": "stream",
          "name": "stdout",
          "text": [
            "Public URL: NgrokTunnel: \"https://64c8-34-32-163-77.ngrok-free.app\" -> \"http://localhost:8005\"\n"
          ]
        }
      ]
    }
  ]
}